{
 "cells": [
  {
   "cell_type": "markdown",
   "metadata": {},
   "source": [
    "### Refactor a class\n",
    "\n",
    "Use the default factory to create smaller parts of the whole. We could use this basic principal to build test suites and populate fields with random data."
   ]
  },
  {
   "cell_type": "code",
   "execution_count": 3,
   "metadata": {},
   "outputs": [
    {
     "name": "stdout",
     "output_type": "stream",
     "text": [
      "Player(name='Rudy', charisma=10, constitution=10, dexterity=10, intelligence=10, strength=10, wisdom=10, health=100, xp=0, inventory=[])\n"
     ]
    }
   ],
   "source": [
    "from dataclasses import dataclass, field\n",
    "\n",
    "@dataclass\n",
    "class Player:\n",
    "    '''Before: theres a lot going on here. Think about grouping the fields in a more efficient way'''\n",
    "    name: str\n",
    "\n",
    "    charisma: int\n",
    "    constitution: int\n",
    "    dexterity: int\n",
    "    intelligence: int\n",
    "    strength: int\n",
    "    wisdom: int\n",
    "\n",
    "    health: int = 100\n",
    "    xp: int = 0\n",
    "    inventory: list[str] = field(default_factory = list)\n",
    "\n",
    "def main():\n",
    "    '''thiis initializer is very long and can stand a better structure'''\n",
    "    player = Player(\n",
    "        name = \"Rudy\",\n",
    "        charisma = 10,\n",
    "        constitution = 10,\n",
    "        dexterity = 10,\n",
    "        intelligence = 10,\n",
    "        strength = 10,\n",
    "        wisdom = 10,\n",
    "    )\n",
    "    print(player)\n",
    "\n",
    "if __name__ == \"__main__\":\n",
    "    main()\n"
   ]
  },
  {
   "cell_type": "markdown",
   "metadata": {},
   "source": [
    "### Rethink how we structure data\n",
    "\n",
    "Do they need to be in the class? \n",
    "\n",
    "- Simplify class.\n",
    "\n",
    "- Split out behavior of class.\n",
    "\n",
    "- Make it smaller (modular) and easieir to understand.\n",
    "\n",
    "Use default_factory as initializer for regrouped traits. With games we might initialize traits with random values, but these values might need to sum up to a specific amount. Some characters might also have inherent preconceived values like if they are strong, their intelligence is low... nice one on the stereotype tho..."
   ]
  },
  {
   "cell_type": "code",
   "execution_count": 14,
   "metadata": {},
   "outputs": [
    {
     "name": "stdout",
     "output_type": "stream",
     "text": [
      "Player(name='Rudy', traits=CharacterTraits(charisma=9, constitution=24, dexterity=9, intelligence=27, strength=25, wisdom=6), health=100, xp=0, inventory=[])\n"
     ]
    }
   ],
   "source": [
    "# from dataclasses import dataclass, field\n",
    "import random\n",
    "from __future__ import annotations\n",
    "\n",
    "def constrained_sum_sample_pos(n: int, total: int)-> list[int]:\n",
    "    '''Traits can have maximum combined values.\n",
    "\n",
    "    This will map out the numbers from 1 to total and randomly create dividers at certain points in the entire list by computing the distance between the distance of ech of the divider locations, and together this gives us the total\n",
    "    \n",
    "    :n: the items\n",
    "    :total: constraint amount\n",
    "    \n",
    "    '''\n",
    "    dividers = sorted(random.sample(range(1, total), n -1))\n",
    "    return [a-b for a, b in zip(dividers + [total], [0] + dividers)]\n",
    "\n",
    "@dataclass\n",
    "class CharacterTraits:\n",
    "    charisma: int = 0\n",
    "    constitution: int = 0\n",
    "    dexterity: int = 0\n",
    "    intelligence: int = 0\n",
    "    strength: int = 0\n",
    "    wisdom: int = 0\n",
    "\n",
    "    @staticmethod\n",
    "    def roll()-> CharacterTraits:\n",
    "        '''This behavior needs to import annotations to do this: roll a number of character traits for us. The unpacked return will be used to populate the traits:, and we use this at instatiation for a random amount of player traits'''\n",
    "        return CharacterTraits(*constrained_sum_sample_pos(6,100))\n",
    "        \n",
    "@dataclass\n",
    "class Player:\n",
    "    '''The character itself.\n",
    "    \n",
    "    :traits will be a randomly generated list of values to fill the character traits with the roll method within the CharacterTraits class'''\n",
    "\n",
    "    name: str\n",
    "    # before roll we had a lot of manual population needed in main\n",
    "    # traits: CharacterTraits = field(default_factory=CharacterTraits)\n",
    "    # add behavior here, but it is not callable\n",
    "    # traits: CharacterTraits = field    (default_factory=CharacterTraits.roll())\n",
    "    traits: CharacterTraits = field    (default_factory=CharacterTraits.roll)\n",
    "    \n",
    "    health: int = 100\n",
    "    xp: int = 0\n",
    "    inventory: list[str] = field(default_factory = list)\n",
    "\n",
    "def main():\n",
    "    player = Player(\n",
    "        name = \"Rudy\",\n",
    "    )\n",
    "    print(player)\n",
    "\n",
    "if __name__ == \"__main__\":\n",
    "    main()\n",
    "    # check the function \n",
    "    # print(constrained_sum_sample_pos(3, 100))\n"
   ]
  },
  {
   "cell_type": "code",
   "execution_count": null,
   "metadata": {},
   "outputs": [],
   "source": []
  }
 ],
 "metadata": {
  "kernelspec": {
   "display_name": "Python 3.10.6 ('py310')",
   "language": "python",
   "name": "python3"
  },
  "language_info": {
   "codemirror_mode": {
    "name": "ipython",
    "version": 3
   },
   "file_extension": ".py",
   "mimetype": "text/x-python",
   "name": "python",
   "nbconvert_exporter": "python",
   "pygments_lexer": "ipython3",
   "version": "3.10.6"
  },
  "orig_nbformat": 4,
  "vscode": {
   "interpreter": {
    "hash": "77798f77af620e2839d590c9276ac52448781752d57ea15b874d8b06c832dade"
   }
  }
 },
 "nbformat": 4,
 "nbformat_minor": 2
}
