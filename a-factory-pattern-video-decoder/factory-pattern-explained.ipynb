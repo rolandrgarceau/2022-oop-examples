{
 "cells": [
  {
   "cell_type": "markdown",
   "metadata": {},
   "source": [
    "# "
   ]
  },
  {
   "cell_type": "markdown",
   "metadata": {},
   "source": [
    "# Factory Pattern\n",
    "\n",
    "The point of using factories is that we are grouping objects that belong together. We like to see less coupling and higher purpose for individual functions with the same goal (higher cohesion). We have both low quality and high quality exporter setups here which makes this a good pattern. Another good use case might be settings per country like currency, tax rates, and shippping. \n",
    "\n",
    "Factories will work less well if we wish for any combination use case like if users define presets for which combinations of codecs to mix together. We would then have to define a factory for every single combination use. If this is what is needed it would be better to use a combination of composition and dependency inversion as that will give overall a little bit more flexability while still allowing for lower coupling. We never know what the check stroker wants, and if they change their mind its worth the discussion on the consequences.\n",
    "\n",
    "We're going to take the existing code and follow the pattern for a better written codebase. Separate object instantiation and its use from one another without knowing specifics. Create less coupling this way, provide some higher cohesion, and eventually look at dependency injection supplied to main using dependeny inversion using an abstract class. \n",
    "\n",
    "## The Code\n",
    "\n",
    "Abstract classes and filepaths come from:\n",
    "```py\n",
    "import pathlib\n",
    "from abc import ABC, abstractmethod\n",
    "```\n",
    "\n",
    "### The exporters\n",
    "\n",
    "There are a few quality flavors for each of the following main exporters:\n",
    "\n",
    "```class VideoExporter(ABC):``` is the initial abstract video class with two @abstractmethods we write to implement this interface: @abstractmethod prepare_export() gets the video ready and @abstractmethod do_export()uses pathlib for the export directory.\n",
    "\n",
    "The ```class AudioExporter(ABC)``` ABC operates in a similar fashion.\n",
    "\n",
    "### Main\n",
    "\n",
    "The original has too many responsibilities- weak or low cohesion. 3 particularly: get user input, map the eports from input, and then actually accomplish the output, all are in main to start, which are better served in separate functions with higher cohesion. \n",
    "\n",
    "High Cohesion: High cohesion is a software engineering concept that refers to how closely all the routines in a class, or all the code in a routine, support a central purpose. Classes that contain strongly related functionalities are described as having high cohesion; the heuristic goal is to make cohesion as high as possible.\n",
    "\n",
    "It also has a lot of coupling as it needs to know the existence of all the different classes. If we have a lot of export formats, this gets tedious.\n",
    "\n",
    "The whole idea of main at the beginning is that it asks user for quality of format, prepares, and then does the exports.\n",
    "\n",
    "### Defining funcitons in relation to main and other function that need to call them\n",
    "\n",
    "The funtion definition ordering may matter, as functions calling other functions will not find definitions and cause not defined errors. Eg the read_exporter() explained below needs to be after (below) the ExporterFactory definition location in the .py file, as it is expecting to return a ExporterFactory type, therefore ExporterFactory must be above it (written higher up in the file).\n",
    "\n",
    "### First factory class\n",
    "\n",
    "Make a factory class. The class holds no refrence to instances, and the methods return the instances created. In python we have refrence counting so if we do not use an object anymore it will be garbage collected automatically. \n",
    "\n",
    "Sometimes its useful to know we do not have to tell the factory anything after we are done with the object. It will be our responsibility after that.\n",
    "\n",
    "### Subclass the base factory class\n",
    "\n",
    "Make a FastExporter, HighQualityExporter, and MasterExporter that uses the factory base. Will there be @abstractmethod in the base?\n",
    "\n",
    "### Break up main() into smaller chunks\n",
    "\n",
    "After we offload the read_exporter section, main will no longer need to know about specific exporter codecs.\n",
    "\n",
    "#### read_exporter()\n",
    "\n",
    "The read_exporter doesn't need to know anything about the codecs either, just the factories that exist.\n",
    "\n",
    "We move the read user input and create a factory into read_exporter(). This will be the only place we need to define the new factories (in the dictionary within that function). Then we can iterate over that new factories dictionary to assign the export_quality.\n",
    "\n",
    "#### Last note on reading an exporter\n",
    "\n",
    "Main can be better served than supplying the exporter from reading user input. We can supply the factory to the main() as an argument from the if __name__. This might be better if we wish to use the read_exporter in another setting where we are not reading export from input.\n",
    "\n",
    "This dependency injection supplies the factory to main, and the dependency inversion is that the ExporterFactory itself in the def main(fac: ExporterFactory) is an abstract class. Main gets an abstract class but we are creating a concrete factory subclass that main does not need to know anything about. Main only needs to know about the ExporterFactory.\n",
    "\n",
    "The point of using factories is that we are grouping objects that belong together. \n",
    "\n"
   ]
  }
 ],
 "metadata": {
  "kernelspec": {
   "display_name": "Python 3.10.6 ('py310')",
   "language": "python",
   "name": "python3"
  },
  "language_info": {
   "name": "python",
   "version": "3.10.6"
  },
  "orig_nbformat": 4,
  "vscode": {
   "interpreter": {
    "hash": "77798f77af620e2839d590c9276ac52448781752d57ea15b874d8b06c832dade"
   }
  }
 },
 "nbformat": 4,
 "nbformat_minor": 2
}
